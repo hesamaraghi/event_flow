{
 "cells": [
  {
   "cell_type": "code",
   "execution_count": 2,
   "metadata": {},
   "outputs": [],
   "source": [
    "import os"
   ]
  },
  {
   "cell_type": "code",
   "execution_count": 20,
   "metadata": {},
   "outputs": [
    {
     "name": "stdout",
     "output_type": "stream",
     "text": [
      "name\n",
      "lr\n",
      "mlruns/42/LIFFireFlowNet/params/optimizer 0.0002\n",
      "mlruns/42/LeakyEVFlowNet/params/optimizer 0.0002\n",
      "mlruns/42/FireNet/params/optimizer 0.0002\n",
      "mlruns/42/LIFFireNet/params/optimizer 0.0002\n",
      "mlruns/42/RNNEVFlowNet/params/optimizer 0.0002\n",
      "mlruns/42/PLIFEVFlowNet/params/optimizer 0.0002\n",
      "mlruns/42/EVFlowNet/params/optimizer 0.0002\n",
      "mlruns/42/FireFlowNet/params/optimizer 0.0002\n",
      "mlruns/42/PLIFFireNet/params/optimizer 0.0002\n",
      "mlruns/42/LeakyFireFlowNet/params/optimizer 0.0002\n",
      "mlruns/42/XLIFFireNet/params/optimizer 0.0002\n",
      "mlruns/42/ALIFEVFlowNet/params/optimizer 0.0002\n",
      "mlruns/42/LeakyFireNet/params/optimizer 0.0002\n",
      "mlruns/42/ALIFFireNet/params/optimizer 0.0002\n",
      "mlruns/42/RNNFireNet/params/optimizer 0.0002\n",
      "mlruns/42/LIFEVFlowNet/params/optimizer 0.0002\n",
      "mlruns/42/XLIFEVFlowNet/params/optimizer 0.0002\n"
     ]
    }
   ],
   "source": [
    "ml_dir = \"mlruns/42\"\n",
    "ml_file = 'optimizer'\n",
    "ml_key = 'lr'\n",
    "model_lists = [os.path.join(ml_dir,dd,'params',ml_file) for dd in os.listdir(ml_dir) if os.path.isdir(os.path.join(ml_dir,dd))]\n",
    "ff = True\n",
    "for model in model_lists:\n",
    "    with open(model) as f:\n",
    "        model_dict = eval(f.read())    \n",
    "        if ff:\n",
    "            for key in model_dict.keys():\n",
    "                print(key)\n",
    "            ff = False\n",
    "        \n",
    "        print(model,model_dict[ml_key])"
   ]
  },
  {
   "cell_type": "code",
   "execution_count": 5,
   "metadata": {},
   "outputs": [
    {
     "data": {
      "text/plain": [
       "[]"
      ]
     },
     "execution_count": 5,
     "metadata": {},
     "output_type": "execute_result"
    }
   ],
   "source": [
    "model_lists"
   ]
  }
 ],
 "metadata": {
  "kernelspec": {
   "display_name": "pyg-new",
   "language": "python",
   "name": "python3"
  },
  "language_info": {
   "codemirror_mode": {
    "name": "ipython",
    "version": 3
   },
   "file_extension": ".py",
   "mimetype": "text/x-python",
   "name": "python",
   "nbconvert_exporter": "python",
   "pygments_lexer": "ipython3",
   "version": "3.10.9"
  },
  "orig_nbformat": 4
 },
 "nbformat": 4,
 "nbformat_minor": 2
}
