{
 "cells": [
  {
   "cell_type": "code",
   "execution_count": 3,
   "metadata": {},
   "outputs": [
    {
     "name": "stdout",
     "output_type": "stream",
     "text": [
      "<KeysViewHDF5 ['events', 'flow', 'flow_dt1', 'flow_dt4', 'images']>\n",
      "flow 19.997165478675445 0.050007087307767636 5.831633651593308e-05\n",
      "flow_dt1 31.387945034346522 0.031859365081267396 4.923732455482245e-07\n",
      "flow_dt4 7.846986227182647 0.1274374608350799 5.332144190399305e-07\n",
      "images 31.387945096898132 0.031859365017776316 4.924776021160936e-07\n"
     ]
    }
   ],
   "source": [
    "import h5py \n",
    "import numpy as np\n",
    "with h5py.File(\"datasets/data/MVSEC/h5/indoor_flying1_data.h5\", \"r\") as h5_file:\n",
    "    print(h5_file.keys())\n",
    "    for flow_type in h5_file.keys():\n",
    "        if flow_type == \"events\":\n",
    "            continue\n",
    "        list_ = [key for key in h5_file[flow_type].keys()]\n",
    "        timestamps_list = [h5_file[flow_type+'/'+l].attrs[\"timestamp\"] for l in list_]\n",
    "        timestamps = np.array(timestamps_list)\n",
    "        print(flow_type, 1/np.mean(np.diff(timestamps)), np.mean(np.diff(timestamps)),np.std(np.diff(timestamps)))"
   ]
  },
  {
   "cell_type": "code",
   "execution_count": 6,
   "metadata": {},
   "outputs": [
    {
     "data": {
      "text/plain": [
       "4"
      ]
     },
     "execution_count": 6,
     "metadata": {},
     "output_type": "execute_result"
    }
   ],
   "source": [
    "np.searchsorted([0,1,2,3,4,5,6,7.5], 3.9, side='right')"
   ]
  },
  {
   "cell_type": "code",
   "execution_count": 5,
   "metadata": {},
   "outputs": [
    {
     "name": "stdout",
     "output_type": "stream",
     "text": [
      "Groups and datasets:\n",
      "davis/\n",
      "\t left/\n",
      "\t\t blended_image_rect\n",
      "\t\t blended_image_rect_ts\n",
      "\t\t depth_image_raw\n",
      "\t\t depth_image_raw_ts\n",
      "\t\t depth_image_rect\n",
      "\t\t depth_image_rect_ts\n",
      "\t\t flow_dist\n",
      "\t\t flow_dist_ts\n",
      "\t\t odometry\n",
      "\t\t odometry_ts\n",
      "\t\t pose\n",
      "\t\t pose_ts\n",
      "\t right/\n",
      "\t\t blended_image_rect\n",
      "\t\t blended_image_rect_ts\n",
      "\t\t depth_image_raw\n",
      "\t\t depth_image_raw_ts\n",
      "\t\t depth_image_rect\n",
      "\t\t depth_image_rect_ts\n"
     ]
    }
   ],
   "source": [
    "import h5py\n",
    "\n",
    "# Open the HDF5 file in read mode\n",
    "with h5py.File('indoor_flying4_gt.hdf5', 'r') as file:\n",
    "    # List all the groups and datasets in the file\n",
    "    print(\"Groups and datasets:\")\n",
    "    for group_name, group in file.items():\n",
    "        print(group_name + '/')\n",
    "        for dataset_name, dataset_group in group.items():\n",
    "            print('\\t', dataset_name + '/')\n",
    "            for sub_dataset in dataset_group.keys():\n",
    "                print('\\t\\t', sub_dataset)"
   ]
  }
 ],
 "metadata": {
  "kernelspec": {
   "display_name": "geometric",
   "language": "python",
   "name": "python3"
  },
  "language_info": {
   "codemirror_mode": {
    "name": "ipython",
    "version": 3
   },
   "file_extension": ".py",
   "mimetype": "text/x-python",
   "name": "python",
   "nbconvert_exporter": "python",
   "pygments_lexer": "ipython3",
   "version": "3.7.7"
  },
  "orig_nbformat": 4
 },
 "nbformat": 4,
 "nbformat_minor": 2
}
